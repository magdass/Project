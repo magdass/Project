{
 "cells": [
  {
   "cell_type": "code",
   "execution_count": 79,
   "metadata": {
    "collapsed": true
   },
   "outputs": [],
   "source": [
    "import pandas as pd\n",
    "import os\n",
    "import json\n",
    "import glob\n",
    "import sqlite3"
   ]
  },
  {
   "cell_type": "code",
   "execution_count": 80,
   "metadata": {},
   "outputs": [
    {
     "data": {
      "text/plain": [
       "{'DATABASE': {'GAS_DB': 'gas_db.p'},\n",
       " 'DIRECTORIES': {'DATA_DIR': '../../DATA', 'TMP_DIR': '../../tmp'},\n",
       " 'FILES': {'PRICE_FILE': 'prices.p',\n",
       "  'SERVICE_FILE': 'services.p',\n",
       "  'STATION_FILE': 'stations.p'}}"
      ]
     },
     "execution_count": 80,
     "metadata": {},
     "output_type": "execute_result"
    }
   ],
   "source": [
    "params"
   ]
  },
  {
   "cell_type": "raw",
   "metadata": {},
   "source": [
    "with open('../parameters.json') as json_data:\n",
    "    params = json.load(json_data)\n",
    "    \n",
    "DATA_DIR = params['DIRECTORIES']['DATA_DIR']\n",
    "TMP_DIR = params['DIRECTORIES']['TMP_DIR']"
   ]
  },
  {
   "cell_type": "code",
   "execution_count": 81,
   "metadata": {
    "collapsed": true
   },
   "outputs": [],
   "source": [
    "with open('../parameters.json') as json_data:\n",
    "    params = json.load(json_data)\n",
    "    \n",
    "    DATA_DIR = params['DIRECTORIES']['DATA_DIR']\n",
    "    TMP_DIR = params['DIRECTORIES']['TMP_DIR']\n",
    "    PRICE_FILE = params['FILES']['PRICE_FILE']\n",
    "    STATION_FILE =params['FILES']['STATION_FILE']\n",
    "    SERVICE_FILE =params['FILES']['SERVICE_FILE']\n",
    "    GAS_DB = os.path.join(DATA_DIR, params['DATABASE']['GAS_DB'])"
   ]
  },
  {
   "cell_type": "code",
   "execution_count": null,
   "metadata": {
    "collapsed": true
   },
   "outputs": [],
   "source": [
    "#on va aller charger les données"
   ]
  },
  {
   "cell_type": "code",
   "execution_count": null,
   "metadata": {
    "collapsed": true
   },
   "outputs": [],
   "source": [
    "#c'est le repertoir ou je vais trouver mes data"
   ]
  },
  {
   "cell_type": "code",
   "execution_count": 82,
   "metadata": {
    "collapsed": true
   },
   "outputs": [],
   "source": [
    "DATA_DIR = '../../DATA'"
   ]
  },
  {
   "cell_type": "code",
   "execution_count": 83,
   "metadata": {
    "collapsed": true
   },
   "outputs": [],
   "source": [
    "TMP_DIR = '../../tmp'"
   ]
  },
  {
   "cell_type": "code",
   "execution_count": 84,
   "metadata": {
    "collapsed": true
   },
   "outputs": [],
   "source": [
    "gas_files = ['Prix2014.zip', 'Prix2015.zip', 'Prix2016.zip']\n",
    "stations_file = 'stations2016.zip'\n",
    "services_file = 'services2016.zip'"
   ]
  },
  {
   "cell_type": "code",
   "execution_count": 85,
   "metadata": {},
   "outputs": [],
   "source": [
    "df2014 = pd.read_csv(DATA_DIR + '/' + gas_files[0])"
   ]
  },
  {
   "cell_type": "code",
   "execution_count": 86,
   "metadata": {
    "collapsed": true
   },
   "outputs": [],
   "source": [
    "df2014 = pd.read_csv(os.path.join(DATA_DIR,gas_files[0]),\n",
    "                    sep=';', header=None, dtype = {1: str}\n",
    "                    )\n",
    "df2014.columns = ['id_station', 'code_postal', 'type_station', 'latitude',\n",
    "                  'longitude', 'date_releve', 'type_carburant',\n",
    "                  'libelle_carburant', 'prix']"
   ]
  },
  {
   "cell_type": "code",
   "execution_count": 87,
   "metadata": {},
   "outputs": [
    {
     "data": {
      "text/plain": [
       "Index(['id_station', 'code_postal', 'type_station', 'latitude', 'longitude',\n",
       "       'date_releve', 'type_carburant', 'libelle_carburant', 'prix'],\n",
       "      dtype='object')"
      ]
     },
     "execution_count": 87,
     "metadata": {},
     "output_type": "execute_result"
    }
   ],
   "source": [
    "df2014.columns"
   ]
  },
  {
   "cell_type": "code",
   "execution_count": 88,
   "metadata": {},
   "outputs": [
    {
     "data": {
      "text/plain": [
       "id_station             int64\n",
       "code_postal           object\n",
       "type_station          object\n",
       "latitude             float64\n",
       "longitude            float64\n",
       "date_releve           object\n",
       "type_carburant       float64\n",
       "libelle_carburant     object\n",
       "prix                 float64\n",
       "dtype: object"
      ]
     },
     "execution_count": 88,
     "metadata": {},
     "output_type": "execute_result"
    }
   ],
   "source": [
    "df2014.dtypes"
   ]
  },
  {
   "cell_type": "code",
   "execution_count": 89,
   "metadata": {
    "scrolled": true
   },
   "outputs": [
    {
     "data": {
      "text/html": [
       "<div>\n",
       "<style>\n",
       "    .dataframe thead tr:only-child th {\n",
       "        text-align: right;\n",
       "    }\n",
       "\n",
       "    .dataframe thead th {\n",
       "        text-align: left;\n",
       "    }\n",
       "\n",
       "    .dataframe tbody tr th {\n",
       "        vertical-align: top;\n",
       "    }\n",
       "</style>\n",
       "<table border=\"1\" class=\"dataframe\">\n",
       "  <thead>\n",
       "    <tr style=\"text-align: right;\">\n",
       "      <th></th>\n",
       "      <th>id_station</th>\n",
       "      <th>code_postal</th>\n",
       "      <th>type_station</th>\n",
       "      <th>latitude</th>\n",
       "      <th>longitude</th>\n",
       "      <th>date_releve</th>\n",
       "      <th>type_carburant</th>\n",
       "      <th>libelle_carburant</th>\n",
       "      <th>prix</th>\n",
       "    </tr>\n",
       "  </thead>\n",
       "  <tbody>\n",
       "    <tr>\n",
       "      <th>0</th>\n",
       "      <td>1000001</td>\n",
       "      <td>01000</td>\n",
       "      <td>R</td>\n",
       "      <td>4620114.0</td>\n",
       "      <td>519791.0</td>\n",
       "      <td>2014-01-02 11:08:03</td>\n",
       "      <td>1.0</td>\n",
       "      <td>Gazole</td>\n",
       "      <td>1304.0</td>\n",
       "    </tr>\n",
       "    <tr>\n",
       "      <th>1</th>\n",
       "      <td>1000001</td>\n",
       "      <td>01000</td>\n",
       "      <td>R</td>\n",
       "      <td>4620114.0</td>\n",
       "      <td>519791.0</td>\n",
       "      <td>2014-01-04 09:54:03</td>\n",
       "      <td>1.0</td>\n",
       "      <td>Gazole</td>\n",
       "      <td>1304.0</td>\n",
       "    </tr>\n",
       "    <tr>\n",
       "      <th>2</th>\n",
       "      <td>1000001</td>\n",
       "      <td>01000</td>\n",
       "      <td>R</td>\n",
       "      <td>4620114.0</td>\n",
       "      <td>519791.0</td>\n",
       "      <td>2014-01-05 10:27:09</td>\n",
       "      <td>1.0</td>\n",
       "      <td>Gazole</td>\n",
       "      <td>1304.0</td>\n",
       "    </tr>\n",
       "    <tr>\n",
       "      <th>3</th>\n",
       "      <td>1000001</td>\n",
       "      <td>01000</td>\n",
       "      <td>R</td>\n",
       "      <td>4620114.0</td>\n",
       "      <td>519791.0</td>\n",
       "      <td>2014-01-06 09:07:51</td>\n",
       "      <td>1.0</td>\n",
       "      <td>Gazole</td>\n",
       "      <td>1304.0</td>\n",
       "    </tr>\n",
       "    <tr>\n",
       "      <th>4</th>\n",
       "      <td>1000001</td>\n",
       "      <td>01000</td>\n",
       "      <td>R</td>\n",
       "      <td>4620114.0</td>\n",
       "      <td>519791.0</td>\n",
       "      <td>2014-01-07 09:23:56</td>\n",
       "      <td>1.0</td>\n",
       "      <td>Gazole</td>\n",
       "      <td>1304.0</td>\n",
       "    </tr>\n",
       "  </tbody>\n",
       "</table>\n",
       "</div>"
      ],
      "text/plain": [
       "   id_station code_postal type_station   latitude  longitude  \\\n",
       "0     1000001       01000            R  4620114.0   519791.0   \n",
       "1     1000001       01000            R  4620114.0   519791.0   \n",
       "2     1000001       01000            R  4620114.0   519791.0   \n",
       "3     1000001       01000            R  4620114.0   519791.0   \n",
       "4     1000001       01000            R  4620114.0   519791.0   \n",
       "\n",
       "           date_releve  type_carburant libelle_carburant    prix  \n",
       "0  2014-01-02 11:08:03             1.0            Gazole  1304.0  \n",
       "1  2014-01-04 09:54:03             1.0            Gazole  1304.0  \n",
       "2  2014-01-05 10:27:09             1.0            Gazole  1304.0  \n",
       "3  2014-01-06 09:07:51             1.0            Gazole  1304.0  \n",
       "4  2014-01-07 09:23:56             1.0            Gazole  1304.0  "
      ]
     },
     "execution_count": 89,
     "metadata": {},
     "output_type": "execute_result"
    }
   ],
   "source": [
    "df2014.head()"
   ]
  },
  {
   "cell_type": "code",
   "execution_count": 90,
   "metadata": {
    "collapsed": true
   },
   "outputs": [],
   "source": [
    "import glob\n",
    "\n",
    "gas_files = glob.glob(os.path.join(DATA_DIR, \"Prix*.zip\")) # on met l'étoile pour éviter de tout écrire, il prend tout"
   ]
  },
  {
   "cell_type": "code",
   "execution_count": 91,
   "metadata": {
    "scrolled": true
   },
   "outputs": [],
   "source": [
    "dfall = pd.DataFrame()\n",
    "\n",
    "for year in gas_files:\n",
    "    df = pd.read_csv(year,\n",
    "                    sep=';', header=None, dtype = {1: str}\n",
    "                    )\n",
    "    df.columns = ['id_station', 'code_postal', 'type_station',\n",
    "                  'latitude','longitude', 'date_releve',\n",
    "                  'type_carburant','libelle_carburant', 'prix']\n",
    "                  \n",
    "    dfall = pd.concat([dfall, df], axis=0)\n",
    "\n",
    "assert dfall.shape[1] == 9, \"Pas le bon nombre de colonnes\"\n"
   ]
  },
  {
   "cell_type": "code",
   "execution_count": 92,
   "metadata": {},
   "outputs": [
    {
     "data": {
      "text/plain": [
       "['../../DATA\\\\Prix2014.zip',\n",
       " '../../DATA\\\\Prix2015.zip',\n",
       " '../../DATA\\\\Prix2016.zip']"
      ]
     },
     "execution_count": 92,
     "metadata": {},
     "output_type": "execute_result"
    }
   ],
   "source": [
    "gas_files"
   ]
  },
  {
   "cell_type": "code",
   "execution_count": 93,
   "metadata": {},
   "outputs": [
    {
     "data": {
      "text/plain": [
       "(9401381, 9)"
      ]
     },
     "execution_count": 93,
     "metadata": {},
     "output_type": "execute_result"
    }
   ],
   "source": [
    "dfall.shape"
   ]
  },
  {
   "cell_type": "code",
   "execution_count": 94,
   "metadata": {
    "collapsed": true
   },
   "outputs": [],
   "source": [
    "stations_files = glob.glob(os.path.join(DATA_DIR, \"Stations*.zip\"))"
   ]
  },
  {
   "cell_type": "code",
   "execution_count": 95,
   "metadata": {},
   "outputs": [
    {
     "data": {
      "text/plain": [
       "['../../DATA\\\\Stations2016.zip']"
      ]
     },
     "execution_count": 95,
     "metadata": {},
     "output_type": "execute_result"
    }
   ],
   "source": [
    "stations_files"
   ]
  },
  {
   "cell_type": "code",
   "execution_count": 96,
   "metadata": {},
   "outputs": [],
   "source": [
    "dfstations = pd.read_csv(stations_files[0],\n",
    "                         sep='|',\n",
    "                         dtype={1: str},\n",
    "                         encoding='utf-8')\n",
    "dfstations.columns = ['id_station', 'code_postal', 'type_station',\n",
    "                     'latitude', 'longitude', 'adresse', 'ville']"
   ]
  },
  {
   "cell_type": "code",
   "execution_count": 97,
   "metadata": {
    "scrolled": true
   },
   "outputs": [
    {
     "data": {
      "text/html": [
       "<div>\n",
       "<style>\n",
       "    .dataframe thead tr:only-child th {\n",
       "        text-align: right;\n",
       "    }\n",
       "\n",
       "    .dataframe thead th {\n",
       "        text-align: left;\n",
       "    }\n",
       "\n",
       "    .dataframe tbody tr th {\n",
       "        vertical-align: top;\n",
       "    }\n",
       "</style>\n",
       "<table border=\"1\" class=\"dataframe\">\n",
       "  <thead>\n",
       "    <tr style=\"text-align: right;\">\n",
       "      <th></th>\n",
       "      <th>id_station</th>\n",
       "      <th>code_postal</th>\n",
       "      <th>type_station</th>\n",
       "      <th>latitude</th>\n",
       "      <th>longitude</th>\n",
       "      <th>adresse</th>\n",
       "      <th>ville</th>\n",
       "    </tr>\n",
       "  </thead>\n",
       "  <tbody>\n",
       "    <tr>\n",
       "      <th>0</th>\n",
       "      <td>1000002</td>\n",
       "      <td>01000</td>\n",
       "      <td>R</td>\n",
       "      <td>4.621842e+06</td>\n",
       "      <td>522767.000000</td>\n",
       "      <td>16 Avenue de Marboz</td>\n",
       "      <td>BOURG-EN-BRESSE</td>\n",
       "    </tr>\n",
       "    <tr>\n",
       "      <th>1</th>\n",
       "      <td>1000004</td>\n",
       "      <td>01000</td>\n",
       "      <td>R</td>\n",
       "      <td>4.618836e+06</td>\n",
       "      <td>524447.000000</td>\n",
       "      <td>20 Avenue du Maréchal Juin</td>\n",
       "      <td>Bourg-en-Bresse</td>\n",
       "    </tr>\n",
       "    <tr>\n",
       "      <th>2</th>\n",
       "      <td>1000005</td>\n",
       "      <td>01000</td>\n",
       "      <td>R</td>\n",
       "      <td>4.620094e+06</td>\n",
       "      <td>519942.024022</td>\n",
       "      <td>642 Avenue de Trévoux</td>\n",
       "      <td>SAINT-DENIS-LèS-BOURG</td>\n",
       "    </tr>\n",
       "    <tr>\n",
       "      <th>3</th>\n",
       "      <td>1000006</td>\n",
       "      <td>01000</td>\n",
       "      <td>R</td>\n",
       "      <td>4.620754e+06</td>\n",
       "      <td>523758.000000</td>\n",
       "      <td>1 Boulevard John Kennedy</td>\n",
       "      <td>BOURG-EN-BRESSE</td>\n",
       "    </tr>\n",
       "    <tr>\n",
       "      <th>4</th>\n",
       "      <td>1000007</td>\n",
       "      <td>01000</td>\n",
       "      <td>R</td>\n",
       "      <td>4.620105e+06</td>\n",
       "      <td>524891.000000</td>\n",
       "      <td>360 AVENUE DU CAPITAINE DHONNE</td>\n",
       "      <td>Bourg-en-Bresse</td>\n",
       "    </tr>\n",
       "  </tbody>\n",
       "</table>\n",
       "</div>"
      ],
      "text/plain": [
       "   id_station code_postal type_station      latitude      longitude  \\\n",
       "0     1000002       01000            R  4.621842e+06  522767.000000   \n",
       "1     1000004       01000            R  4.618836e+06  524447.000000   \n",
       "2     1000005       01000            R  4.620094e+06  519942.024022   \n",
       "3     1000006       01000            R  4.620754e+06  523758.000000   \n",
       "4     1000007       01000            R  4.620105e+06  524891.000000   \n",
       "\n",
       "                          adresse                  ville  \n",
       "0             16 Avenue de Marboz        BOURG-EN-BRESSE  \n",
       "1      20 Avenue du Maréchal Juin        Bourg-en-Bresse  \n",
       "2           642 Avenue de Trévoux  SAINT-DENIS-LèS-BOURG  \n",
       "3        1 Boulevard John Kennedy        BOURG-EN-BRESSE  \n",
       "4  360 AVENUE DU CAPITAINE DHONNE        Bourg-en-Bresse  "
      ]
     },
     "execution_count": 97,
     "metadata": {},
     "output_type": "execute_result"
    }
   ],
   "source": [
    "dfstations.head()"
   ]
  },
  {
   "cell_type": "code",
   "execution_count": 98,
   "metadata": {},
   "outputs": [],
   "source": [
    "dfservices = pd.read_csv(os.path.join(DATA_DIR, services_file),\n",
    "                         sep='|',\n",
    "                         header=None,\n",
    "                         dtype={1: str},\n",
    "                         encoding='utf-8')\n",
    "dfservices.columns = ['id_station', 'code_postal', 'type_station',\n",
    "                     'latitude', 'longitude','services']"
   ]
  },
  {
   "cell_type": "code",
   "execution_count": 99,
   "metadata": {
    "collapsed": true
   },
   "outputs": [],
   "source": [
    "dfall.to_pickle(os.path.join(DATA_DIR, PRICE_FILE)) # format de serialisation, data frame et l'enregister sur disque\n",
    "dfstations.to_pickle(os.path.join(DATA_DIR, STATION_FILE))\n",
    "dfservices.to_pickle(os.path.join(DATA_DIR, SERVICE_FILE))"
   ]
  },
  {
   "cell_type": "code",
   "execution_count": 100,
   "metadata": {
    "collapsed": true
   },
   "outputs": [],
   "source": [
    "testdf = pd.read_pickle(os.path.join(DATA_DIR, PRICE_FILE))"
   ]
  },
  {
   "cell_type": "code",
   "execution_count": 101,
   "metadata": {
    "collapsed": true
   },
   "outputs": [],
   "source": [
    "cnx = sqlite3.connect(GAS_DB)"
   ]
  },
  {
   "cell_type": "code",
   "execution_count": 102,
   "metadata": {
    "collapsed": true
   },
   "outputs": [],
   "source": [
    "dfall.to_sql('prices', cnx, index=False, if_exists='replace')"
   ]
  },
  {
   "cell_type": "code",
   "execution_count": 103,
   "metadata": {
    "collapsed": true
   },
   "outputs": [],
   "source": [
    "dfservices.to_sql('services', cnx, index=False, if_exists='replace')"
   ]
  },
  {
   "cell_type": "code",
   "execution_count": 104,
   "metadata": {
    "collapsed": true
   },
   "outputs": [],
   "source": [
    "dfstations.to_sql('stations', cnx, index=False, if_exists='replace')"
   ]
  },
  {
   "cell_type": "code",
   "execution_count": 105,
   "metadata": {
    "scrolled": true
   },
   "outputs": [
    {
     "data": {
      "text/html": [
       "<div>\n",
       "<style>\n",
       "    .dataframe thead tr:only-child th {\n",
       "        text-align: right;\n",
       "    }\n",
       "\n",
       "    .dataframe thead th {\n",
       "        text-align: left;\n",
       "    }\n",
       "\n",
       "    .dataframe tbody tr th {\n",
       "        vertical-align: top;\n",
       "    }\n",
       "</style>\n",
       "<table border=\"1\" class=\"dataframe\">\n",
       "  <thead>\n",
       "    <tr style=\"text-align: right;\">\n",
       "      <th></th>\n",
       "      <th>id_station</th>\n",
       "      <th>code_postal</th>\n",
       "      <th>type_station</th>\n",
       "      <th>latitude</th>\n",
       "      <th>longitude</th>\n",
       "      <th>date_releve</th>\n",
       "      <th>type_carburant</th>\n",
       "      <th>libelle_carburant</th>\n",
       "      <th>prix</th>\n",
       "    </tr>\n",
       "  </thead>\n",
       "  <tbody>\n",
       "    <tr>\n",
       "      <th>0</th>\n",
       "      <td>13001001</td>\n",
       "      <td>13001</td>\n",
       "      <td>R</td>\n",
       "      <td>4330446.0</td>\n",
       "      <td>538957.0</td>\n",
       "      <td>2014-01-01 06:00:00</td>\n",
       "      <td>1.0</td>\n",
       "      <td>Gazole</td>\n",
       "      <td>1399.0</td>\n",
       "    </tr>\n",
       "    <tr>\n",
       "      <th>1</th>\n",
       "      <td>13001001</td>\n",
       "      <td>13001</td>\n",
       "      <td>R</td>\n",
       "      <td>4330446.0</td>\n",
       "      <td>538957.0</td>\n",
       "      <td>2014-01-07 06:00:00</td>\n",
       "      <td>1.0</td>\n",
       "      <td>Gazole</td>\n",
       "      <td>1389.0</td>\n",
       "    </tr>\n",
       "    <tr>\n",
       "      <th>2</th>\n",
       "      <td>13001001</td>\n",
       "      <td>13001</td>\n",
       "      <td>R</td>\n",
       "      <td>4330446.0</td>\n",
       "      <td>538957.0</td>\n",
       "      <td>2014-01-24 06:00:00</td>\n",
       "      <td>1.0</td>\n",
       "      <td>Gazole</td>\n",
       "      <td>1389.0</td>\n",
       "    </tr>\n",
       "    <tr>\n",
       "      <th>3</th>\n",
       "      <td>13001001</td>\n",
       "      <td>13001</td>\n",
       "      <td>R</td>\n",
       "      <td>4330446.0</td>\n",
       "      <td>538957.0</td>\n",
       "      <td>2014-01-25 06:00:00</td>\n",
       "      <td>1.0</td>\n",
       "      <td>Gazole</td>\n",
       "      <td>1384.0</td>\n",
       "    </tr>\n",
       "    <tr>\n",
       "      <th>4</th>\n",
       "      <td>13001001</td>\n",
       "      <td>13001</td>\n",
       "      <td>R</td>\n",
       "      <td>4330446.0</td>\n",
       "      <td>538957.0</td>\n",
       "      <td>2014-01-28 06:00:00</td>\n",
       "      <td>1.0</td>\n",
       "      <td>Gazole</td>\n",
       "      <td>1389.0</td>\n",
       "    </tr>\n",
       "    <tr>\n",
       "      <th>5</th>\n",
       "      <td>13001001</td>\n",
       "      <td>13001</td>\n",
       "      <td>R</td>\n",
       "      <td>4330446.0</td>\n",
       "      <td>538957.0</td>\n",
       "      <td>2014-01-29 06:00:00</td>\n",
       "      <td>1.0</td>\n",
       "      <td>Gazole</td>\n",
       "      <td>1389.0</td>\n",
       "    </tr>\n",
       "    <tr>\n",
       "      <th>6</th>\n",
       "      <td>13001001</td>\n",
       "      <td>13001</td>\n",
       "      <td>R</td>\n",
       "      <td>4330446.0</td>\n",
       "      <td>538957.0</td>\n",
       "      <td>2014-01-30 06:00:00</td>\n",
       "      <td>1.0</td>\n",
       "      <td>Gazole</td>\n",
       "      <td>1389.0</td>\n",
       "    </tr>\n",
       "    <tr>\n",
       "      <th>7</th>\n",
       "      <td>13001001</td>\n",
       "      <td>13001</td>\n",
       "      <td>R</td>\n",
       "      <td>4330446.0</td>\n",
       "      <td>538957.0</td>\n",
       "      <td>2014-02-14 06:00:00</td>\n",
       "      <td>1.0</td>\n",
       "      <td>Gazole</td>\n",
       "      <td>1394.0</td>\n",
       "    </tr>\n",
       "    <tr>\n",
       "      <th>8</th>\n",
       "      <td>13001001</td>\n",
       "      <td>13001</td>\n",
       "      <td>R</td>\n",
       "      <td>4330446.0</td>\n",
       "      <td>538957.0</td>\n",
       "      <td>2014-02-18 06:00:00</td>\n",
       "      <td>1.0</td>\n",
       "      <td>Gazole</td>\n",
       "      <td>1399.0</td>\n",
       "    </tr>\n",
       "    <tr>\n",
       "      <th>9</th>\n",
       "      <td>13001001</td>\n",
       "      <td>13001</td>\n",
       "      <td>R</td>\n",
       "      <td>4330446.0</td>\n",
       "      <td>538957.0</td>\n",
       "      <td>2014-02-26 06:00:00</td>\n",
       "      <td>1.0</td>\n",
       "      <td>Gazole</td>\n",
       "      <td>1394.0</td>\n",
       "    </tr>\n",
       "    <tr>\n",
       "      <th>10</th>\n",
       "      <td>13001001</td>\n",
       "      <td>13001</td>\n",
       "      <td>R</td>\n",
       "      <td>4330446.0</td>\n",
       "      <td>538957.0</td>\n",
       "      <td>2014-02-27 06:00:00</td>\n",
       "      <td>1.0</td>\n",
       "      <td>Gazole</td>\n",
       "      <td>1389.0</td>\n",
       "    </tr>\n",
       "    <tr>\n",
       "      <th>11</th>\n",
       "      <td>13001001</td>\n",
       "      <td>13001</td>\n",
       "      <td>R</td>\n",
       "      <td>4330446.0</td>\n",
       "      <td>538957.0</td>\n",
       "      <td>2014-03-01 06:00:00</td>\n",
       "      <td>1.0</td>\n",
       "      <td>Gazole</td>\n",
       "      <td>1384.0</td>\n",
       "    </tr>\n",
       "    <tr>\n",
       "      <th>12</th>\n",
       "      <td>13001001</td>\n",
       "      <td>13001</td>\n",
       "      <td>R</td>\n",
       "      <td>4330446.0</td>\n",
       "      <td>538957.0</td>\n",
       "      <td>2014-03-04 06:00:00</td>\n",
       "      <td>1.0</td>\n",
       "      <td>Gazole</td>\n",
       "      <td>1389.0</td>\n",
       "    </tr>\n",
       "    <tr>\n",
       "      <th>13</th>\n",
       "      <td>13001001</td>\n",
       "      <td>13001</td>\n",
       "      <td>R</td>\n",
       "      <td>4330446.0</td>\n",
       "      <td>538957.0</td>\n",
       "      <td>2014-03-06 06:00:00</td>\n",
       "      <td>1.0</td>\n",
       "      <td>Gazole</td>\n",
       "      <td>1384.0</td>\n",
       "    </tr>\n",
       "    <tr>\n",
       "      <th>14</th>\n",
       "      <td>13001001</td>\n",
       "      <td>13001</td>\n",
       "      <td>R</td>\n",
       "      <td>4330446.0</td>\n",
       "      <td>538957.0</td>\n",
       "      <td>2014-03-07 06:00:00</td>\n",
       "      <td>1.0</td>\n",
       "      <td>Gazole</td>\n",
       "      <td>1379.0</td>\n",
       "    </tr>\n",
       "    <tr>\n",
       "      <th>15</th>\n",
       "      <td>13001001</td>\n",
       "      <td>13001</td>\n",
       "      <td>R</td>\n",
       "      <td>4330446.0</td>\n",
       "      <td>538957.0</td>\n",
       "      <td>2014-03-08 06:00:00</td>\n",
       "      <td>1.0</td>\n",
       "      <td>Gazole</td>\n",
       "      <td>1369.0</td>\n",
       "    </tr>\n",
       "    <tr>\n",
       "      <th>16</th>\n",
       "      <td>13001001</td>\n",
       "      <td>13001</td>\n",
       "      <td>R</td>\n",
       "      <td>4330446.0</td>\n",
       "      <td>538957.0</td>\n",
       "      <td>2014-03-14 06:00:00</td>\n",
       "      <td>1.0</td>\n",
       "      <td>Gazole</td>\n",
       "      <td>1359.0</td>\n",
       "    </tr>\n",
       "    <tr>\n",
       "      <th>17</th>\n",
       "      <td>13001001</td>\n",
       "      <td>13001</td>\n",
       "      <td>R</td>\n",
       "      <td>4330446.0</td>\n",
       "      <td>538957.0</td>\n",
       "      <td>2014-03-21 06:00:00</td>\n",
       "      <td>1.0</td>\n",
       "      <td>Gazole</td>\n",
       "      <td>1364.0</td>\n",
       "    </tr>\n",
       "    <tr>\n",
       "      <th>18</th>\n",
       "      <td>13001001</td>\n",
       "      <td>13001</td>\n",
       "      <td>R</td>\n",
       "      <td>4330446.0</td>\n",
       "      <td>538957.0</td>\n",
       "      <td>2014-03-26 06:00:00</td>\n",
       "      <td>1.0</td>\n",
       "      <td>Gazole</td>\n",
       "      <td>1369.0</td>\n",
       "    </tr>\n",
       "    <tr>\n",
       "      <th>19</th>\n",
       "      <td>13001001</td>\n",
       "      <td>13001</td>\n",
       "      <td>R</td>\n",
       "      <td>4330446.0</td>\n",
       "      <td>538957.0</td>\n",
       "      <td>2014-03-27 06:00:00</td>\n",
       "      <td>1.0</td>\n",
       "      <td>Gazole</td>\n",
       "      <td>1374.0</td>\n",
       "    </tr>\n",
       "    <tr>\n",
       "      <th>20</th>\n",
       "      <td>13001001</td>\n",
       "      <td>13001</td>\n",
       "      <td>R</td>\n",
       "      <td>4330446.0</td>\n",
       "      <td>538957.0</td>\n",
       "      <td>2014-03-28 06:00:00</td>\n",
       "      <td>1.0</td>\n",
       "      <td>Gazole</td>\n",
       "      <td>1374.0</td>\n",
       "    </tr>\n",
       "    <tr>\n",
       "      <th>21</th>\n",
       "      <td>13001001</td>\n",
       "      <td>13001</td>\n",
       "      <td>R</td>\n",
       "      <td>4330446.0</td>\n",
       "      <td>538957.0</td>\n",
       "      <td>2014-04-01 06:00:00</td>\n",
       "      <td>1.0</td>\n",
       "      <td>Gazole</td>\n",
       "      <td>1374.0</td>\n",
       "    </tr>\n",
       "    <tr>\n",
       "      <th>22</th>\n",
       "      <td>13001001</td>\n",
       "      <td>13001</td>\n",
       "      <td>R</td>\n",
       "      <td>4330446.0</td>\n",
       "      <td>538957.0</td>\n",
       "      <td>2014-04-04 06:00:00</td>\n",
       "      <td>1.0</td>\n",
       "      <td>Gazole</td>\n",
       "      <td>1374.0</td>\n",
       "    </tr>\n",
       "    <tr>\n",
       "      <th>23</th>\n",
       "      <td>13001001</td>\n",
       "      <td>13001</td>\n",
       "      <td>R</td>\n",
       "      <td>4330446.0</td>\n",
       "      <td>538957.0</td>\n",
       "      <td>2014-04-16 06:00:00</td>\n",
       "      <td>1.0</td>\n",
       "      <td>Gazole</td>\n",
       "      <td>1379.0</td>\n",
       "    </tr>\n",
       "    <tr>\n",
       "      <th>24</th>\n",
       "      <td>13001001</td>\n",
       "      <td>13001</td>\n",
       "      <td>R</td>\n",
       "      <td>4330446.0</td>\n",
       "      <td>538957.0</td>\n",
       "      <td>2014-04-17 06:00:00</td>\n",
       "      <td>1.0</td>\n",
       "      <td>Gazole</td>\n",
       "      <td>1384.0</td>\n",
       "    </tr>\n",
       "    <tr>\n",
       "      <th>25</th>\n",
       "      <td>13001001</td>\n",
       "      <td>13001</td>\n",
       "      <td>R</td>\n",
       "      <td>4330446.0</td>\n",
       "      <td>538957.0</td>\n",
       "      <td>2014-04-23 06:00:00</td>\n",
       "      <td>1.0</td>\n",
       "      <td>Gazole</td>\n",
       "      <td>1389.0</td>\n",
       "    </tr>\n",
       "    <tr>\n",
       "      <th>26</th>\n",
       "      <td>13001001</td>\n",
       "      <td>13001</td>\n",
       "      <td>R</td>\n",
       "      <td>4330446.0</td>\n",
       "      <td>538957.0</td>\n",
       "      <td>2014-05-01 06:00:00</td>\n",
       "      <td>1.0</td>\n",
       "      <td>Gazole</td>\n",
       "      <td>1379.0</td>\n",
       "    </tr>\n",
       "    <tr>\n",
       "      <th>27</th>\n",
       "      <td>13001001</td>\n",
       "      <td>13001</td>\n",
       "      <td>R</td>\n",
       "      <td>4330446.0</td>\n",
       "      <td>538957.0</td>\n",
       "      <td>2014-05-03 06:00:00</td>\n",
       "      <td>1.0</td>\n",
       "      <td>Gazole</td>\n",
       "      <td>1374.0</td>\n",
       "    </tr>\n",
       "    <tr>\n",
       "      <th>28</th>\n",
       "      <td>13001001</td>\n",
       "      <td>13001</td>\n",
       "      <td>R</td>\n",
       "      <td>4330446.0</td>\n",
       "      <td>538957.0</td>\n",
       "      <td>2014-05-06 06:00:00</td>\n",
       "      <td>1.0</td>\n",
       "      <td>Gazole</td>\n",
       "      <td>1369.0</td>\n",
       "    </tr>\n",
       "    <tr>\n",
       "      <th>29</th>\n",
       "      <td>13001001</td>\n",
       "      <td>13001</td>\n",
       "      <td>R</td>\n",
       "      <td>4330446.0</td>\n",
       "      <td>538957.0</td>\n",
       "      <td>2014-05-07 06:00:00</td>\n",
       "      <td>1.0</td>\n",
       "      <td>Gazole</td>\n",
       "      <td>1364.0</td>\n",
       "    </tr>\n",
       "    <tr>\n",
       "      <th>...</th>\n",
       "      <td>...</td>\n",
       "      <td>...</td>\n",
       "      <td>...</td>\n",
       "      <td>...</td>\n",
       "      <td>...</td>\n",
       "      <td>...</td>\n",
       "      <td>...</td>\n",
       "      <td>...</td>\n",
       "      <td>...</td>\n",
       "    </tr>\n",
       "    <tr>\n",
       "      <th>153</th>\n",
       "      <td>13001001</td>\n",
       "      <td>13001</td>\n",
       "      <td>R</td>\n",
       "      <td>4330446.0</td>\n",
       "      <td>538957.0</td>\n",
       "      <td>2014-08-29 06:00:00</td>\n",
       "      <td>5.0</td>\n",
       "      <td>E10</td>\n",
       "      <td>1579.0</td>\n",
       "    </tr>\n",
       "    <tr>\n",
       "      <th>154</th>\n",
       "      <td>13001001</td>\n",
       "      <td>13001</td>\n",
       "      <td>R</td>\n",
       "      <td>4330446.0</td>\n",
       "      <td>538957.0</td>\n",
       "      <td>2014-09-04 06:00:00</td>\n",
       "      <td>5.0</td>\n",
       "      <td>E10</td>\n",
       "      <td>1579.0</td>\n",
       "    </tr>\n",
       "    <tr>\n",
       "      <th>155</th>\n",
       "      <td>13001001</td>\n",
       "      <td>13001</td>\n",
       "      <td>R</td>\n",
       "      <td>4330446.0</td>\n",
       "      <td>538957.0</td>\n",
       "      <td>2014-09-05 06:00:00</td>\n",
       "      <td>5.0</td>\n",
       "      <td>E10</td>\n",
       "      <td>1579.0</td>\n",
       "    </tr>\n",
       "    <tr>\n",
       "      <th>156</th>\n",
       "      <td>13001001</td>\n",
       "      <td>13001</td>\n",
       "      <td>R</td>\n",
       "      <td>4330446.0</td>\n",
       "      <td>538957.0</td>\n",
       "      <td>2014-09-12 06:00:00</td>\n",
       "      <td>5.0</td>\n",
       "      <td>E10</td>\n",
       "      <td>1579.0</td>\n",
       "    </tr>\n",
       "    <tr>\n",
       "      <th>157</th>\n",
       "      <td>13001001</td>\n",
       "      <td>13001</td>\n",
       "      <td>R</td>\n",
       "      <td>4330446.0</td>\n",
       "      <td>538957.0</td>\n",
       "      <td>2014-09-16 06:00:00</td>\n",
       "      <td>5.0</td>\n",
       "      <td>E10</td>\n",
       "      <td>1569.0</td>\n",
       "    </tr>\n",
       "    <tr>\n",
       "      <th>158</th>\n",
       "      <td>13001001</td>\n",
       "      <td>13001</td>\n",
       "      <td>R</td>\n",
       "      <td>4330446.0</td>\n",
       "      <td>538957.0</td>\n",
       "      <td>2014-09-17 06:00:00</td>\n",
       "      <td>5.0</td>\n",
       "      <td>E10</td>\n",
       "      <td>1564.0</td>\n",
       "    </tr>\n",
       "    <tr>\n",
       "      <th>159</th>\n",
       "      <td>13001001</td>\n",
       "      <td>13001</td>\n",
       "      <td>R</td>\n",
       "      <td>4330446.0</td>\n",
       "      <td>538957.0</td>\n",
       "      <td>2014-09-23 06:00:00</td>\n",
       "      <td>5.0</td>\n",
       "      <td>E10</td>\n",
       "      <td>1559.0</td>\n",
       "    </tr>\n",
       "    <tr>\n",
       "      <th>160</th>\n",
       "      <td>13001001</td>\n",
       "      <td>13001</td>\n",
       "      <td>R</td>\n",
       "      <td>4330446.0</td>\n",
       "      <td>538957.0</td>\n",
       "      <td>2014-09-24 06:00:00</td>\n",
       "      <td>5.0</td>\n",
       "      <td>E10</td>\n",
       "      <td>1559.0</td>\n",
       "    </tr>\n",
       "    <tr>\n",
       "      <th>161</th>\n",
       "      <td>13001001</td>\n",
       "      <td>13001</td>\n",
       "      <td>R</td>\n",
       "      <td>4330446.0</td>\n",
       "      <td>538957.0</td>\n",
       "      <td>2014-10-02 06:00:00</td>\n",
       "      <td>5.0</td>\n",
       "      <td>E10</td>\n",
       "      <td>1564.0</td>\n",
       "    </tr>\n",
       "    <tr>\n",
       "      <th>162</th>\n",
       "      <td>13001001</td>\n",
       "      <td>13001</td>\n",
       "      <td>R</td>\n",
       "      <td>4330446.0</td>\n",
       "      <td>538957.0</td>\n",
       "      <td>2014-10-04 06:00:00</td>\n",
       "      <td>5.0</td>\n",
       "      <td>E10</td>\n",
       "      <td>1564.0</td>\n",
       "    </tr>\n",
       "    <tr>\n",
       "      <th>163</th>\n",
       "      <td>13001001</td>\n",
       "      <td>13001</td>\n",
       "      <td>R</td>\n",
       "      <td>4330446.0</td>\n",
       "      <td>538957.0</td>\n",
       "      <td>2014-10-08 06:00:00</td>\n",
       "      <td>5.0</td>\n",
       "      <td>E10</td>\n",
       "      <td>1559.0</td>\n",
       "    </tr>\n",
       "    <tr>\n",
       "      <th>164</th>\n",
       "      <td>13001001</td>\n",
       "      <td>13001</td>\n",
       "      <td>R</td>\n",
       "      <td>4330446.0</td>\n",
       "      <td>538957.0</td>\n",
       "      <td>2014-10-09 06:00:00</td>\n",
       "      <td>5.0</td>\n",
       "      <td>E10</td>\n",
       "      <td>1559.0</td>\n",
       "    </tr>\n",
       "    <tr>\n",
       "      <th>165</th>\n",
       "      <td>13001001</td>\n",
       "      <td>13001</td>\n",
       "      <td>R</td>\n",
       "      <td>4330446.0</td>\n",
       "      <td>538957.0</td>\n",
       "      <td>2014-10-10 06:00:00</td>\n",
       "      <td>5.0</td>\n",
       "      <td>E10</td>\n",
       "      <td>1549.0</td>\n",
       "    </tr>\n",
       "    <tr>\n",
       "      <th>166</th>\n",
       "      <td>13001001</td>\n",
       "      <td>13001</td>\n",
       "      <td>R</td>\n",
       "      <td>4330446.0</td>\n",
       "      <td>538957.0</td>\n",
       "      <td>2014-10-11 06:00:00</td>\n",
       "      <td>5.0</td>\n",
       "      <td>E10</td>\n",
       "      <td>1539.0</td>\n",
       "    </tr>\n",
       "    <tr>\n",
       "      <th>167</th>\n",
       "      <td>13001001</td>\n",
       "      <td>13001</td>\n",
       "      <td>R</td>\n",
       "      <td>4330446.0</td>\n",
       "      <td>538957.0</td>\n",
       "      <td>2014-10-14 06:00:00</td>\n",
       "      <td>5.0</td>\n",
       "      <td>E10</td>\n",
       "      <td>1524.0</td>\n",
       "    </tr>\n",
       "    <tr>\n",
       "      <th>168</th>\n",
       "      <td>13001001</td>\n",
       "      <td>13001</td>\n",
       "      <td>R</td>\n",
       "      <td>4330446.0</td>\n",
       "      <td>538957.0</td>\n",
       "      <td>2014-10-15 06:00:00</td>\n",
       "      <td>5.0</td>\n",
       "      <td>E10</td>\n",
       "      <td>1509.0</td>\n",
       "    </tr>\n",
       "    <tr>\n",
       "      <th>169</th>\n",
       "      <td>13001001</td>\n",
       "      <td>13001</td>\n",
       "      <td>R</td>\n",
       "      <td>4330446.0</td>\n",
       "      <td>538957.0</td>\n",
       "      <td>2014-10-16 06:00:00</td>\n",
       "      <td>5.0</td>\n",
       "      <td>E10</td>\n",
       "      <td>1499.0</td>\n",
       "    </tr>\n",
       "    <tr>\n",
       "      <th>170</th>\n",
       "      <td>13001001</td>\n",
       "      <td>13001</td>\n",
       "      <td>R</td>\n",
       "      <td>4330446.0</td>\n",
       "      <td>538957.0</td>\n",
       "      <td>2014-11-01 06:00:00</td>\n",
       "      <td>5.0</td>\n",
       "      <td>E10</td>\n",
       "      <td>1499.0</td>\n",
       "    </tr>\n",
       "    <tr>\n",
       "      <th>171</th>\n",
       "      <td>13001001</td>\n",
       "      <td>13001</td>\n",
       "      <td>R</td>\n",
       "      <td>4330446.0</td>\n",
       "      <td>538957.0</td>\n",
       "      <td>2014-11-11 06:00:00</td>\n",
       "      <td>5.0</td>\n",
       "      <td>E10</td>\n",
       "      <td>1509.0</td>\n",
       "    </tr>\n",
       "    <tr>\n",
       "      <th>172</th>\n",
       "      <td>13001001</td>\n",
       "      <td>13001</td>\n",
       "      <td>R</td>\n",
       "      <td>4330446.0</td>\n",
       "      <td>538957.0</td>\n",
       "      <td>2014-11-15 06:00:00</td>\n",
       "      <td>5.0</td>\n",
       "      <td>E10</td>\n",
       "      <td>1499.0</td>\n",
       "    </tr>\n",
       "    <tr>\n",
       "      <th>173</th>\n",
       "      <td>13001001</td>\n",
       "      <td>13001</td>\n",
       "      <td>R</td>\n",
       "      <td>4330446.0</td>\n",
       "      <td>538957.0</td>\n",
       "      <td>2014-11-18 06:00:00</td>\n",
       "      <td>5.0</td>\n",
       "      <td>E10</td>\n",
       "      <td>1484.0</td>\n",
       "    </tr>\n",
       "    <tr>\n",
       "      <th>174</th>\n",
       "      <td>13001001</td>\n",
       "      <td>13001</td>\n",
       "      <td>R</td>\n",
       "      <td>4330446.0</td>\n",
       "      <td>538957.0</td>\n",
       "      <td>2014-11-19 06:00:00</td>\n",
       "      <td>5.0</td>\n",
       "      <td>E10</td>\n",
       "      <td>1479.0</td>\n",
       "    </tr>\n",
       "    <tr>\n",
       "      <th>175</th>\n",
       "      <td>13001001</td>\n",
       "      <td>13001</td>\n",
       "      <td>R</td>\n",
       "      <td>4330446.0</td>\n",
       "      <td>538957.0</td>\n",
       "      <td>2014-11-27 06:00:00</td>\n",
       "      <td>5.0</td>\n",
       "      <td>E10</td>\n",
       "      <td>1474.0</td>\n",
       "    </tr>\n",
       "    <tr>\n",
       "      <th>176</th>\n",
       "      <td>13001001</td>\n",
       "      <td>13001</td>\n",
       "      <td>R</td>\n",
       "      <td>4330446.0</td>\n",
       "      <td>538957.0</td>\n",
       "      <td>2014-11-28 06:00:00</td>\n",
       "      <td>5.0</td>\n",
       "      <td>E10</td>\n",
       "      <td>1469.0</td>\n",
       "    </tr>\n",
       "    <tr>\n",
       "      <th>177</th>\n",
       "      <td>13001001</td>\n",
       "      <td>13001</td>\n",
       "      <td>R</td>\n",
       "      <td>4330446.0</td>\n",
       "      <td>538957.0</td>\n",
       "      <td>2014-11-29 06:00:00</td>\n",
       "      <td>5.0</td>\n",
       "      <td>E10</td>\n",
       "      <td>1459.0</td>\n",
       "    </tr>\n",
       "    <tr>\n",
       "      <th>178</th>\n",
       "      <td>13001001</td>\n",
       "      <td>13001</td>\n",
       "      <td>R</td>\n",
       "      <td>4330446.0</td>\n",
       "      <td>538957.0</td>\n",
       "      <td>2014-12-02 06:00:00</td>\n",
       "      <td>5.0</td>\n",
       "      <td>E10</td>\n",
       "      <td>1449.0</td>\n",
       "    </tr>\n",
       "    <tr>\n",
       "      <th>179</th>\n",
       "      <td>13001001</td>\n",
       "      <td>13001</td>\n",
       "      <td>R</td>\n",
       "      <td>4330446.0</td>\n",
       "      <td>538957.0</td>\n",
       "      <td>2014-12-03 06:00:00</td>\n",
       "      <td>5.0</td>\n",
       "      <td>E10</td>\n",
       "      <td>1439.0</td>\n",
       "    </tr>\n",
       "    <tr>\n",
       "      <th>180</th>\n",
       "      <td>13001001</td>\n",
       "      <td>13001</td>\n",
       "      <td>R</td>\n",
       "      <td>4330446.0</td>\n",
       "      <td>538957.0</td>\n",
       "      <td>2014-12-12 06:00:00</td>\n",
       "      <td>5.0</td>\n",
       "      <td>E10</td>\n",
       "      <td>1434.0</td>\n",
       "    </tr>\n",
       "    <tr>\n",
       "      <th>181</th>\n",
       "      <td>13001001</td>\n",
       "      <td>13001</td>\n",
       "      <td>R</td>\n",
       "      <td>4330446.0</td>\n",
       "      <td>538957.0</td>\n",
       "      <td>2014-12-17 06:00:00</td>\n",
       "      <td>5.0</td>\n",
       "      <td>E10</td>\n",
       "      <td>1424.0</td>\n",
       "    </tr>\n",
       "    <tr>\n",
       "      <th>182</th>\n",
       "      <td>13001001</td>\n",
       "      <td>13001</td>\n",
       "      <td>R</td>\n",
       "      <td>4330446.0</td>\n",
       "      <td>538957.0</td>\n",
       "      <td>None</td>\n",
       "      <td>NaN</td>\n",
       "      <td>None</td>\n",
       "      <td>NaN</td>\n",
       "    </tr>\n",
       "  </tbody>\n",
       "</table>\n",
       "<p>183 rows × 9 columns</p>\n",
       "</div>"
      ],
      "text/plain": [
       "     id_station code_postal type_station   latitude  longitude  \\\n",
       "0      13001001       13001            R  4330446.0   538957.0   \n",
       "1      13001001       13001            R  4330446.0   538957.0   \n",
       "2      13001001       13001            R  4330446.0   538957.0   \n",
       "3      13001001       13001            R  4330446.0   538957.0   \n",
       "4      13001001       13001            R  4330446.0   538957.0   \n",
       "5      13001001       13001            R  4330446.0   538957.0   \n",
       "6      13001001       13001            R  4330446.0   538957.0   \n",
       "7      13001001       13001            R  4330446.0   538957.0   \n",
       "8      13001001       13001            R  4330446.0   538957.0   \n",
       "9      13001001       13001            R  4330446.0   538957.0   \n",
       "10     13001001       13001            R  4330446.0   538957.0   \n",
       "11     13001001       13001            R  4330446.0   538957.0   \n",
       "12     13001001       13001            R  4330446.0   538957.0   \n",
       "13     13001001       13001            R  4330446.0   538957.0   \n",
       "14     13001001       13001            R  4330446.0   538957.0   \n",
       "15     13001001       13001            R  4330446.0   538957.0   \n",
       "16     13001001       13001            R  4330446.0   538957.0   \n",
       "17     13001001       13001            R  4330446.0   538957.0   \n",
       "18     13001001       13001            R  4330446.0   538957.0   \n",
       "19     13001001       13001            R  4330446.0   538957.0   \n",
       "20     13001001       13001            R  4330446.0   538957.0   \n",
       "21     13001001       13001            R  4330446.0   538957.0   \n",
       "22     13001001       13001            R  4330446.0   538957.0   \n",
       "23     13001001       13001            R  4330446.0   538957.0   \n",
       "24     13001001       13001            R  4330446.0   538957.0   \n",
       "25     13001001       13001            R  4330446.0   538957.0   \n",
       "26     13001001       13001            R  4330446.0   538957.0   \n",
       "27     13001001       13001            R  4330446.0   538957.0   \n",
       "28     13001001       13001            R  4330446.0   538957.0   \n",
       "29     13001001       13001            R  4330446.0   538957.0   \n",
       "..          ...         ...          ...        ...        ...   \n",
       "153    13001001       13001            R  4330446.0   538957.0   \n",
       "154    13001001       13001            R  4330446.0   538957.0   \n",
       "155    13001001       13001            R  4330446.0   538957.0   \n",
       "156    13001001       13001            R  4330446.0   538957.0   \n",
       "157    13001001       13001            R  4330446.0   538957.0   \n",
       "158    13001001       13001            R  4330446.0   538957.0   \n",
       "159    13001001       13001            R  4330446.0   538957.0   \n",
       "160    13001001       13001            R  4330446.0   538957.0   \n",
       "161    13001001       13001            R  4330446.0   538957.0   \n",
       "162    13001001       13001            R  4330446.0   538957.0   \n",
       "163    13001001       13001            R  4330446.0   538957.0   \n",
       "164    13001001       13001            R  4330446.0   538957.0   \n",
       "165    13001001       13001            R  4330446.0   538957.0   \n",
       "166    13001001       13001            R  4330446.0   538957.0   \n",
       "167    13001001       13001            R  4330446.0   538957.0   \n",
       "168    13001001       13001            R  4330446.0   538957.0   \n",
       "169    13001001       13001            R  4330446.0   538957.0   \n",
       "170    13001001       13001            R  4330446.0   538957.0   \n",
       "171    13001001       13001            R  4330446.0   538957.0   \n",
       "172    13001001       13001            R  4330446.0   538957.0   \n",
       "173    13001001       13001            R  4330446.0   538957.0   \n",
       "174    13001001       13001            R  4330446.0   538957.0   \n",
       "175    13001001       13001            R  4330446.0   538957.0   \n",
       "176    13001001       13001            R  4330446.0   538957.0   \n",
       "177    13001001       13001            R  4330446.0   538957.0   \n",
       "178    13001001       13001            R  4330446.0   538957.0   \n",
       "179    13001001       13001            R  4330446.0   538957.0   \n",
       "180    13001001       13001            R  4330446.0   538957.0   \n",
       "181    13001001       13001            R  4330446.0   538957.0   \n",
       "182    13001001       13001            R  4330446.0   538957.0   \n",
       "\n",
       "             date_releve  type_carburant libelle_carburant    prix  \n",
       "0    2014-01-01 06:00:00             1.0            Gazole  1399.0  \n",
       "1    2014-01-07 06:00:00             1.0            Gazole  1389.0  \n",
       "2    2014-01-24 06:00:00             1.0            Gazole  1389.0  \n",
       "3    2014-01-25 06:00:00             1.0            Gazole  1384.0  \n",
       "4    2014-01-28 06:00:00             1.0            Gazole  1389.0  \n",
       "5    2014-01-29 06:00:00             1.0            Gazole  1389.0  \n",
       "6    2014-01-30 06:00:00             1.0            Gazole  1389.0  \n",
       "7    2014-02-14 06:00:00             1.0            Gazole  1394.0  \n",
       "8    2014-02-18 06:00:00             1.0            Gazole  1399.0  \n",
       "9    2014-02-26 06:00:00             1.0            Gazole  1394.0  \n",
       "10   2014-02-27 06:00:00             1.0            Gazole  1389.0  \n",
       "11   2014-03-01 06:00:00             1.0            Gazole  1384.0  \n",
       "12   2014-03-04 06:00:00             1.0            Gazole  1389.0  \n",
       "13   2014-03-06 06:00:00             1.0            Gazole  1384.0  \n",
       "14   2014-03-07 06:00:00             1.0            Gazole  1379.0  \n",
       "15   2014-03-08 06:00:00             1.0            Gazole  1369.0  \n",
       "16   2014-03-14 06:00:00             1.0            Gazole  1359.0  \n",
       "17   2014-03-21 06:00:00             1.0            Gazole  1364.0  \n",
       "18   2014-03-26 06:00:00             1.0            Gazole  1369.0  \n",
       "19   2014-03-27 06:00:00             1.0            Gazole  1374.0  \n",
       "20   2014-03-28 06:00:00             1.0            Gazole  1374.0  \n",
       "21   2014-04-01 06:00:00             1.0            Gazole  1374.0  \n",
       "22   2014-04-04 06:00:00             1.0            Gazole  1374.0  \n",
       "23   2014-04-16 06:00:00             1.0            Gazole  1379.0  \n",
       "24   2014-04-17 06:00:00             1.0            Gazole  1384.0  \n",
       "25   2014-04-23 06:00:00             1.0            Gazole  1389.0  \n",
       "26   2014-05-01 06:00:00             1.0            Gazole  1379.0  \n",
       "27   2014-05-03 06:00:00             1.0            Gazole  1374.0  \n",
       "28   2014-05-06 06:00:00             1.0            Gazole  1369.0  \n",
       "29   2014-05-07 06:00:00             1.0            Gazole  1364.0  \n",
       "..                   ...             ...               ...     ...  \n",
       "153  2014-08-29 06:00:00             5.0               E10  1579.0  \n",
       "154  2014-09-04 06:00:00             5.0               E10  1579.0  \n",
       "155  2014-09-05 06:00:00             5.0               E10  1579.0  \n",
       "156  2014-09-12 06:00:00             5.0               E10  1579.0  \n",
       "157  2014-09-16 06:00:00             5.0               E10  1569.0  \n",
       "158  2014-09-17 06:00:00             5.0               E10  1564.0  \n",
       "159  2014-09-23 06:00:00             5.0               E10  1559.0  \n",
       "160  2014-09-24 06:00:00             5.0               E10  1559.0  \n",
       "161  2014-10-02 06:00:00             5.0               E10  1564.0  \n",
       "162  2014-10-04 06:00:00             5.0               E10  1564.0  \n",
       "163  2014-10-08 06:00:00             5.0               E10  1559.0  \n",
       "164  2014-10-09 06:00:00             5.0               E10  1559.0  \n",
       "165  2014-10-10 06:00:00             5.0               E10  1549.0  \n",
       "166  2014-10-11 06:00:00             5.0               E10  1539.0  \n",
       "167  2014-10-14 06:00:00             5.0               E10  1524.0  \n",
       "168  2014-10-15 06:00:00             5.0               E10  1509.0  \n",
       "169  2014-10-16 06:00:00             5.0               E10  1499.0  \n",
       "170  2014-11-01 06:00:00             5.0               E10  1499.0  \n",
       "171  2014-11-11 06:00:00             5.0               E10  1509.0  \n",
       "172  2014-11-15 06:00:00             5.0               E10  1499.0  \n",
       "173  2014-11-18 06:00:00             5.0               E10  1484.0  \n",
       "174  2014-11-19 06:00:00             5.0               E10  1479.0  \n",
       "175  2014-11-27 06:00:00             5.0               E10  1474.0  \n",
       "176  2014-11-28 06:00:00             5.0               E10  1469.0  \n",
       "177  2014-11-29 06:00:00             5.0               E10  1459.0  \n",
       "178  2014-12-02 06:00:00             5.0               E10  1449.0  \n",
       "179  2014-12-03 06:00:00             5.0               E10  1439.0  \n",
       "180  2014-12-12 06:00:00             5.0               E10  1434.0  \n",
       "181  2014-12-17 06:00:00             5.0               E10  1424.0  \n",
       "182                 None             NaN              None     NaN  \n",
       "\n",
       "[183 rows x 9 columns]"
      ]
     },
     "execution_count": 105,
     "metadata": {},
     "output_type": "execute_result"
    }
   ],
   "source": [
    "pd.read_sql_query('select * from prices where code_postal=\"13001\"',\n",
    "                 cnx)"
   ]
  },
  {
   "cell_type": "code",
   "execution_count": 106,
   "metadata": {
    "collapsed": true
   },
   "outputs": [],
   "source": [
    "cur = cnx.cursor()"
   ]
  },
  {
   "cell_type": "code",
   "execution_count": 107,
   "metadata": {},
   "outputs": [
    {
     "data": {
      "text/plain": [
       "<sqlite3.Cursor at 0x1d604a03d50>"
      ]
     },
     "execution_count": 107,
     "metadata": {},
     "output_type": "execute_result"
    }
   ],
   "source": [
    "cur.execute('select * from prices where prix > 1400')"
   ]
  },
  {
   "cell_type": "code",
   "execution_count": 108,
   "metadata": {
    "collapsed": true
   },
   "outputs": [],
   "source": [
    "res = cur.fetchall()"
   ]
  },
  {
   "cell_type": "code",
   "execution_count": 109,
   "metadata": {},
   "outputs": [
    {
     "data": {
      "text/plain": [
       "[(1000001,\n",
       "  '01000',\n",
       "  'R',\n",
       "  4620114.0,\n",
       "  519791.0,\n",
       "  '2014-02-28 10:28:03',\n",
       "  1.0,\n",
       "  'Gazole',\n",
       "  1535.0),\n",
       " (1000001,\n",
       "  '01000',\n",
       "  'R',\n",
       "  4620114.0,\n",
       "  519791.0,\n",
       "  '2014-03-22 08:55:00',\n",
       "  1.0,\n",
       "  'Gazole',\n",
       "  1529.0)]"
      ]
     },
     "execution_count": 109,
     "metadata": {},
     "output_type": "execute_result"
    }
   ],
   "source": [
    "res[:2]"
   ]
  },
  {
   "cell_type": "code",
   "execution_count": 110,
   "metadata": {},
   "outputs": [],
   "source": [
    "res_df = pd.read_sql_query(\"SELECT * FROM prices WHERE prix >1400\", cnx)"
   ]
  },
  {
   "cell_type": "code",
   "execution_count": 111,
   "metadata": {},
   "outputs": [
    {
     "data": {
      "text/html": [
       "<div>\n",
       "<style>\n",
       "    .dataframe thead tr:only-child th {\n",
       "        text-align: right;\n",
       "    }\n",
       "\n",
       "    .dataframe thead th {\n",
       "        text-align: left;\n",
       "    }\n",
       "\n",
       "    .dataframe tbody tr th {\n",
       "        vertical-align: top;\n",
       "    }\n",
       "</style>\n",
       "<table border=\"1\" class=\"dataframe\">\n",
       "  <thead>\n",
       "    <tr style=\"text-align: right;\">\n",
       "      <th></th>\n",
       "      <th>id_station</th>\n",
       "      <th>code_postal</th>\n",
       "      <th>type_station</th>\n",
       "      <th>latitude</th>\n",
       "      <th>longitude</th>\n",
       "      <th>date_releve</th>\n",
       "      <th>type_carburant</th>\n",
       "      <th>libelle_carburant</th>\n",
       "      <th>prix</th>\n",
       "    </tr>\n",
       "  </thead>\n",
       "  <tbody>\n",
       "    <tr>\n",
       "      <th>0</th>\n",
       "      <td>1000001</td>\n",
       "      <td>01000</td>\n",
       "      <td>R</td>\n",
       "      <td>4620114.0</td>\n",
       "      <td>519791.0</td>\n",
       "      <td>2014-02-28 10:28:03</td>\n",
       "      <td>1.0</td>\n",
       "      <td>Gazole</td>\n",
       "      <td>1535.0</td>\n",
       "    </tr>\n",
       "    <tr>\n",
       "      <th>1</th>\n",
       "      <td>1000001</td>\n",
       "      <td>01000</td>\n",
       "      <td>R</td>\n",
       "      <td>4620114.0</td>\n",
       "      <td>519791.0</td>\n",
       "      <td>2014-03-22 08:55:00</td>\n",
       "      <td>1.0</td>\n",
       "      <td>Gazole</td>\n",
       "      <td>1529.0</td>\n",
       "    </tr>\n",
       "    <tr>\n",
       "      <th>2</th>\n",
       "      <td>1000001</td>\n",
       "      <td>01000</td>\n",
       "      <td>R</td>\n",
       "      <td>4620114.0</td>\n",
       "      <td>519791.0</td>\n",
       "      <td>2014-01-02 11:08:03</td>\n",
       "      <td>2.0</td>\n",
       "      <td>SP95</td>\n",
       "      <td>1499.0</td>\n",
       "    </tr>\n",
       "    <tr>\n",
       "      <th>3</th>\n",
       "      <td>1000001</td>\n",
       "      <td>01000</td>\n",
       "      <td>R</td>\n",
       "      <td>4620114.0</td>\n",
       "      <td>519791.0</td>\n",
       "      <td>2014-01-04 09:54:03</td>\n",
       "      <td>2.0</td>\n",
       "      <td>SP95</td>\n",
       "      <td>1499.0</td>\n",
       "    </tr>\n",
       "    <tr>\n",
       "      <th>4</th>\n",
       "      <td>1000001</td>\n",
       "      <td>01000</td>\n",
       "      <td>R</td>\n",
       "      <td>4620114.0</td>\n",
       "      <td>519791.0</td>\n",
       "      <td>2014-01-05 10:27:09</td>\n",
       "      <td>2.0</td>\n",
       "      <td>SP95</td>\n",
       "      <td>1499.0</td>\n",
       "    </tr>\n",
       "  </tbody>\n",
       "</table>\n",
       "</div>"
      ],
      "text/plain": [
       "   id_station code_postal type_station   latitude  longitude  \\\n",
       "0     1000001       01000            R  4620114.0   519791.0   \n",
       "1     1000001       01000            R  4620114.0   519791.0   \n",
       "2     1000001       01000            R  4620114.0   519791.0   \n",
       "3     1000001       01000            R  4620114.0   519791.0   \n",
       "4     1000001       01000            R  4620114.0   519791.0   \n",
       "\n",
       "           date_releve  type_carburant libelle_carburant    prix  \n",
       "0  2014-02-28 10:28:03             1.0            Gazole  1535.0  \n",
       "1  2014-03-22 08:55:00             1.0            Gazole  1529.0  \n",
       "2  2014-01-02 11:08:03             2.0              SP95  1499.0  \n",
       "3  2014-01-04 09:54:03             2.0              SP95  1499.0  \n",
       "4  2014-01-05 10:27:09             2.0              SP95  1499.0  "
      ]
     },
     "execution_count": 111,
     "metadata": {},
     "output_type": "execute_result"
    }
   ],
   "source": [
    "res_df.head()"
   ]
  },
  {
   "cell_type": "code",
   "execution_count": 112,
   "metadata": {},
   "outputs": [],
   "source": [
    "import numpy as np"
   ]
  },
  {
   "cell_type": "code",
   "execution_count": 113,
   "metadata": {},
   "outputs": [],
   "source": [
    "dfall['date_releve'] = pd.to_datetime(dfall.date_releve) #pour passer à datetime"
   ]
  },
  {
   "cell_type": "code",
   "execution_count": 114,
   "metadata": {},
   "outputs": [
    {
     "data": {
      "text/plain": [
       "id_station                    int64\n",
       "code_postal                  object\n",
       "type_station                 object\n",
       "latitude                    float64\n",
       "longitude                   float64\n",
       "date_releve          datetime64[ns]\n",
       "type_carburant              float64\n",
       "libelle_carburant            object\n",
       "prix                        float64\n",
       "dtype: object"
      ]
     },
     "execution_count": 114,
     "metadata": {},
     "output_type": "execute_result"
    }
   ],
   "source": [
    "dfall.dtypes"
   ]
  },
  {
   "cell_type": "code",
   "execution_count": 115,
   "metadata": {},
   "outputs": [
    {
     "data": {
      "text/plain": [
       "0    1.0\n",
       "1    1.0\n",
       "2    1.0\n",
       "3    2.0\n",
       "4    2.0\n",
       "Name: date_releve, dtype: float64"
      ]
     },
     "execution_count": 115,
     "metadata": {},
     "output_type": "execute_result"
    }
   ],
   "source": [
    "dfall.date_releve.dt.week.head() # on prend la colonne date_releve"
   ]
  },
  {
   "cell_type": "code",
   "execution_count": 117,
   "metadata": {},
   "outputs": [],
   "source": [
    "dfall['semaine'] = dfall.date_releve.dt.week + 52 * (dfall.date_releve.dt.year - 2014)"
   ]
  },
  {
   "cell_type": "code",
   "execution_count": 118,
   "metadata": {},
   "outputs": [
    {
     "data": {
      "text/plain": [
       "1.0"
      ]
     },
     "execution_count": 118,
     "metadata": {},
     "output_type": "execute_result"
    }
   ],
   "source": [
    "dfall.semaine.min()"
   ]
  },
  {
   "cell_type": "code",
   "execution_count": 119,
   "metadata": {},
   "outputs": [
    {
     "data": {
      "text/plain": [
       "53"
      ]
     },
     "execution_count": 119,
     "metadata": {},
     "output_type": "execute_result"
    }
   ],
   "source": [
    "dfall[dfall.date_releve.dt.year == 2016].date_releve.dt.week.max() # on 53 semaine en 2016, la formule ne marche plus avec 2017 car 52"
   ]
  },
  {
   "cell_type": "code",
   "execution_count": 120,
   "metadata": {},
   "outputs": [
    {
     "data": {
      "text/plain": [
       "157.0"
      ]
     },
     "execution_count": 120,
     "metadata": {},
     "output_type": "execute_result"
    }
   ],
   "source": [
    "dfall.semaine.max()"
   ]
  },
  {
   "cell_type": "code",
   "execution_count": 121,
   "metadata": {},
   "outputs": [
    {
     "data": {
      "text/html": [
       "<div>\n",
       "<style>\n",
       "    .dataframe thead tr:only-child th {\n",
       "        text-align: right;\n",
       "    }\n",
       "\n",
       "    .dataframe thead th {\n",
       "        text-align: left;\n",
       "    }\n",
       "\n",
       "    .dataframe tbody tr th {\n",
       "        vertical-align: top;\n",
       "    }\n",
       "</style>\n",
       "<table border=\"1\" class=\"dataframe\">\n",
       "  <thead>\n",
       "    <tr style=\"text-align: right;\">\n",
       "      <th></th>\n",
       "      <th></th>\n",
       "      <th>prix</th>\n",
       "    </tr>\n",
       "    <tr>\n",
       "      <th>libelle_carburant</th>\n",
       "      <th>semaine</th>\n",
       "      <th></th>\n",
       "    </tr>\n",
       "  </thead>\n",
       "  <tbody>\n",
       "    <tr>\n",
       "      <th rowspan=\"5\" valign=\"top\">E10</th>\n",
       "      <th>1.0</th>\n",
       "      <td>1380.460069</td>\n",
       "    </tr>\n",
       "    <tr>\n",
       "      <th>2.0</th>\n",
       "      <td>1487.090961</td>\n",
       "    </tr>\n",
       "    <tr>\n",
       "      <th>3.0</th>\n",
       "      <td>1478.254481</td>\n",
       "    </tr>\n",
       "    <tr>\n",
       "      <th>4.0</th>\n",
       "      <td>1476.861855</td>\n",
       "    </tr>\n",
       "    <tr>\n",
       "      <th>5.0</th>\n",
       "      <td>1478.376765</td>\n",
       "    </tr>\n",
       "  </tbody>\n",
       "</table>\n",
       "</div>"
      ],
      "text/plain": [
       "                                  prix\n",
       "libelle_carburant semaine             \n",
       "E10               1.0      1380.460069\n",
       "                  2.0      1487.090961\n",
       "                  3.0      1478.254481\n",
       "                  4.0      1476.861855\n",
       "                  5.0      1478.376765"
      ]
     },
     "execution_count": 121,
     "metadata": {},
     "output_type": "execute_result"
    }
   ],
   "source": [
    "dfall.groupby(['libelle_carburant', 'semaine']).agg({'prix': np.mean}).head() # on groupe par le lib et semaine, on a la moyenne du prix"
   ]
  },
  {
   "cell_type": "code",
   "execution_count": 122,
   "metadata": {},
   "outputs": [
    {
     "data": {
      "text/html": [
       "<div>\n",
       "<style>\n",
       "    .dataframe thead tr:only-child th {\n",
       "        text-align: right;\n",
       "    }\n",
       "\n",
       "    .dataframe thead th {\n",
       "        text-align: left;\n",
       "    }\n",
       "\n",
       "    .dataframe tbody tr th {\n",
       "        vertical-align: top;\n",
       "    }\n",
       "</style>\n",
       "<table border=\"1\" class=\"dataframe\">\n",
       "  <thead>\n",
       "    <tr>\n",
       "      <th></th>\n",
       "      <th></th>\n",
       "      <th colspan=\"3\" halign=\"left\">prix</th>\n",
       "    </tr>\n",
       "    <tr>\n",
       "      <th></th>\n",
       "      <th></th>\n",
       "      <th>mean</th>\n",
       "      <th>min</th>\n",
       "      <th>max</th>\n",
       "    </tr>\n",
       "    <tr>\n",
       "      <th>libelle_carburant</th>\n",
       "      <th>semaine</th>\n",
       "      <th></th>\n",
       "      <th></th>\n",
       "      <th></th>\n",
       "    </tr>\n",
       "  </thead>\n",
       "  <tbody>\n",
       "    <tr>\n",
       "      <th rowspan=\"5\" valign=\"top\">E10</th>\n",
       "      <th>1.0</th>\n",
       "      <td>1380.460069</td>\n",
       "      <td>1129.0</td>\n",
       "      <td>1689.0</td>\n",
       "    </tr>\n",
       "    <tr>\n",
       "      <th>2.0</th>\n",
       "      <td>1487.090961</td>\n",
       "      <td>1249.0</td>\n",
       "      <td>1720.0</td>\n",
       "    </tr>\n",
       "    <tr>\n",
       "      <th>3.0</th>\n",
       "      <td>1478.254481</td>\n",
       "      <td>1247.0</td>\n",
       "      <td>1650.0</td>\n",
       "    </tr>\n",
       "    <tr>\n",
       "      <th>4.0</th>\n",
       "      <td>1476.861855</td>\n",
       "      <td>1350.0</td>\n",
       "      <td>1720.0</td>\n",
       "    </tr>\n",
       "    <tr>\n",
       "      <th>5.0</th>\n",
       "      <td>1478.376765</td>\n",
       "      <td>1308.0</td>\n",
       "      <td>1670.0</td>\n",
       "    </tr>\n",
       "  </tbody>\n",
       "</table>\n",
       "</div>"
      ],
      "text/plain": [
       "                                  prix                \n",
       "                                  mean     min     max\n",
       "libelle_carburant semaine                             \n",
       "E10               1.0      1380.460069  1129.0  1689.0\n",
       "                  2.0      1487.090961  1249.0  1720.0\n",
       "                  3.0      1478.254481  1247.0  1650.0\n",
       "                  4.0      1476.861855  1350.0  1720.0\n",
       "                  5.0      1478.376765  1308.0  1670.0"
      ]
     },
     "execution_count": 122,
     "metadata": {},
     "output_type": "execute_result"
    }
   ],
   "source": [
    "dfall.groupby(['libelle_carburant', 'semaine']).agg({'prix': [np.mean, min, max]}).head()"
   ]
  },
  {
   "cell_type": "code",
   "execution_count": 141,
   "metadata": {},
   "outputs": [],
   "source": [
    "moyenne_hebdo_df = dfall.groupby(['libelle_carburant', 'semaine']).agg({'prix': np.mean}).reset_index()"
   ]
  },
  {
   "cell_type": "code",
   "execution_count": 124,
   "metadata": {
    "collapsed": true
   },
   "outputs": [],
   "source": [
    "import matplotlib.pyplot as plt\n",
    "import seaborn  as sns\n",
    "%matplotlib inline"
   ]
  },
  {
   "cell_type": "code",
   "execution_count": 135,
   "metadata": {},
   "outputs": [
    {
     "data": {
      "text/plain": [
       "<seaborn.axisgrid.FacetGrid at 0x1d54b8ebcc0>"
      ]
     },
     "execution_count": 135,
     "metadata": {},
     "output_type": "execute_result"
    },
    {
     "data": {
      "image/png": "[encoded data removed]",
      "text/plain": [
       "<matplotlib.figure.Figure at 0x1d53719a160>"
      ]
     },
     "metadata": {},
     "output_type": "display_data"
    }
   ],
   "source": [
    "graph = sns.FacetGrid(moyenne_hebdo_df, hue='libelle_carburant', size=8, aspect=1.5)\n",
    "graph.map(plt.plot, \"semaine\", \"prix\")\n",
    "graph.add_legend()"
   ]
  },
  {
   "cell_type": "code",
   "execution_count": 143,
   "metadata": {
    "collapsed": true
   },
   "outputs": [],
   "source": [
    "moyenne_hebdo_df = (dfall\n",
    "                    .dropna(subset=['date_releve'])\n",
    "                    .groupby(['libelle_carburant', pd.Grouper(key='date_releve', freq=\"1w\")])\n",
    "                    .agg({'prix': np.mean})\n",
    "                   ).head()"
   ]
  },
  {
   "cell_type": "code",
   "execution_count": 137,
   "metadata": {},
   "outputs": [
    {
     "data": {
      "text/html": [
       "<div>\n",
       "<style>\n",
       "    .dataframe thead tr:only-child th {\n",
       "        text-align: right;\n",
       "    }\n",
       "\n",
       "    .dataframe thead th {\n",
       "        text-align: left;\n",
       "    }\n",
       "\n",
       "    .dataframe tbody tr th {\n",
       "        vertical-align: top;\n",
       "    }\n",
       "</style>\n",
       "<table border=\"1\" class=\"dataframe\">\n",
       "  <thead>\n",
       "    <tr style=\"text-align: right;\">\n",
       "      <th></th>\n",
       "      <th></th>\n",
       "      <th>prix</th>\n",
       "    </tr>\n",
       "    <tr>\n",
       "      <th>libelle_carburant</th>\n",
       "      <th>date_releve</th>\n",
       "      <th></th>\n",
       "    </tr>\n",
       "  </thead>\n",
       "  <tbody>\n",
       "    <tr>\n",
       "      <th rowspan=\"5\" valign=\"top\">E10</th>\n",
       "      <th>2014-01-05</th>\n",
       "      <td>1490.439833</td>\n",
       "    </tr>\n",
       "    <tr>\n",
       "      <th>2014-01-12</th>\n",
       "      <td>1487.090961</td>\n",
       "    </tr>\n",
       "    <tr>\n",
       "      <th>2014-01-19</th>\n",
       "      <td>1478.254481</td>\n",
       "    </tr>\n",
       "    <tr>\n",
       "      <th>2014-01-26</th>\n",
       "      <td>1476.861855</td>\n",
       "    </tr>\n",
       "    <tr>\n",
       "      <th>2014-02-02</th>\n",
       "      <td>1478.376765</td>\n",
       "    </tr>\n",
       "  </tbody>\n",
       "</table>\n",
       "</div>"
      ],
      "text/plain": [
       "                                      prix\n",
       "libelle_carburant date_releve             \n",
       "E10               2014-01-05   1490.439833\n",
       "                  2014-01-12   1487.090961\n",
       "                  2014-01-19   1478.254481\n",
       "                  2014-01-26   1476.861855\n",
       "                  2014-02-02   1478.376765"
      ]
     },
     "execution_count": 137,
     "metadata": {},
     "output_type": "execute_result"
    }
   ],
   "source": [
    "moyenne_hebdo_df.head() #on les début de semaines, il prend le premier jour de la semaine à chaque fois"
   ]
  },
  {
   "cell_type": "code",
   "execution_count": 144,
   "metadata": {
    "collapsed": true
   },
   "outputs": [],
   "source": [
    "moyenne_hebdo_df = (dfall\n",
    "                    .dropna(subset=['date_releve'])\n",
    "                    .groupby(['libelle_carburant', pd.Grouper(key='date_releve', freq=\"2w-MON\")])\n",
    "                    .agg({'prix': np.mean})\n",
    "                   ).reset_index()"
   ]
  },
  {
   "cell_type": "code",
   "execution_count": 145,
   "metadata": {},
   "outputs": [
    {
     "data": {
      "text/html": [
       "<div>\n",
       "<style>\n",
       "    .dataframe thead tr:only-child th {\n",
       "        text-align: right;\n",
       "    }\n",
       "\n",
       "    .dataframe thead th {\n",
       "        text-align: left;\n",
       "    }\n",
       "\n",
       "    .dataframe tbody tr th {\n",
       "        vertical-align: top;\n",
       "    }\n",
       "</style>\n",
       "<table border=\"1\" class=\"dataframe\">\n",
       "  <thead>\n",
       "    <tr style=\"text-align: right;\">\n",
       "      <th></th>\n",
       "      <th>libelle_carburant</th>\n",
       "      <th>date_releve</th>\n",
       "      <th>prix</th>\n",
       "    </tr>\n",
       "  </thead>\n",
       "  <tbody>\n",
       "    <tr>\n",
       "      <th>0</th>\n",
       "      <td>E10</td>\n",
       "      <td>2014-01-06</td>\n",
       "      <td>1490.073267</td>\n",
       "    </tr>\n",
       "    <tr>\n",
       "      <th>1</th>\n",
       "      <td>E10</td>\n",
       "      <td>2014-01-20</td>\n",
       "      <td>1481.514076</td>\n",
       "    </tr>\n",
       "    <tr>\n",
       "      <th>2</th>\n",
       "      <td>E10</td>\n",
       "      <td>2014-02-03</td>\n",
       "      <td>1478.358741</td>\n",
       "    </tr>\n",
       "    <tr>\n",
       "      <th>3</th>\n",
       "      <td>E10</td>\n",
       "      <td>2014-02-17</td>\n",
       "      <td>1484.497754</td>\n",
       "    </tr>\n",
       "    <tr>\n",
       "      <th>4</th>\n",
       "      <td>E10</td>\n",
       "      <td>2014-03-03</td>\n",
       "      <td>1495.865215</td>\n",
       "    </tr>\n",
       "  </tbody>\n",
       "</table>\n",
       "</div>"
      ],
      "text/plain": [
       "  libelle_carburant date_releve         prix\n",
       "0               E10  2014-01-06  1490.073267\n",
       "1               E10  2014-01-20  1481.514076\n",
       "2               E10  2014-02-03  1478.358741\n",
       "3               E10  2014-02-17  1484.497754\n",
       "4               E10  2014-03-03  1495.865215"
      ]
     },
     "execution_count": 145,
     "metadata": {},
     "output_type": "execute_result"
    }
   ],
   "source": [
    "moyenne_hebdo_df.head() #le premier jour de la semaine est lundi"
   ]
  },
  {
   "cell_type": "code",
   "execution_count": 146,
   "metadata": {},
   "outputs": [
    {
     "data": {
      "text/plain": [
       "<seaborn.axisgrid.FacetGrid at 0x1d60091feb8>"
      ]
     },
     "execution_count": 146,
     "metadata": {},
     "output_type": "execute_result"
    },
    {
     "data": {
      "image/png": "[encoded data removed]",
      "text/plain": [
       "<matplotlib.figure.Figure at 0x1d600903a58>"
      ]
     },
     "metadata": {},
     "output_type": "display_data"
    }
   ],
   "source": [
    "graph = sns.FacetGrid(moyenne_hebdo_df, hue='libelle_carburant', size=8, aspect=1.5)\n",
    "graph.map(plt.plot, \"date_releve\", \"prix\")\n",
    "graph.add_legend()"
   ]
  },
  {
   "cell_type": "code",
   "execution_count": null,
   "metadata": {
    "collapsed": true
   },
   "outputs": [],
   "source": [
    "#Modelisation"
   ]
  },
  {
   "cell_type": "code",
   "execution_count": 148,
   "metadata": {},
   "outputs": [
    {
     "data": {
      "text/plain": [
       "id_station      12391\n",
       "code_postal      4297\n",
       "type_station        3\n",
       "latitude        11115\n",
       "longitude       11128\n",
       "services         4780\n",
       "dtype: int64"
      ]
     },
     "execution_count": 148,
     "metadata": {},
     "output_type": "execute_result"
    }
   ],
   "source": [
    "dfservices.nunique()"
   ]
  },
  {
   "cell_type": "code",
   "execution_count": null,
   "metadata": {
    "collapsed": true
   },
   "outputs": [],
   "source": [
    "pd.get_dummies"
   ]
  },
  {
   "cell_type": "code",
   "execution_count": 151,
   "metadata": {
    "scrolled": true
   },
   "outputs": [
    {
     "data": {
      "text/plain": [
       "0        [Station de gonflage, Vente de gaz domestique,...\n",
       "1                   [Vente de gaz domestique, Automate CB]\n",
       "2        [Carburant qualité supérieure, GPL, Toilettes ...\n",
       "3        [Carburant qualité supérieure, Station de lava...\n",
       "4                                [Vente de gaz domestique]\n",
       "5        [Station de lavage, Vente de gaz domestique, A...\n",
       "6        [Toilettes publiques, Vente de gaz domestique,...\n",
       "7        [Station de lavage, Vente de gaz domestique, A...\n",
       "8                                            [Automate CB]\n",
       "9                                                      NaN\n",
       "10             [Carburant qualité supérieure, Automate CB]\n",
       "11                                           [Automate CB]\n",
       "12       [Carburant qualité supérieure, GPL, Vente de g...\n",
       "13                  [Vente de gaz domestique, Automate CB]\n",
       "14       [Carburant qualité supérieure, GPL, Boutique a...\n",
       "15       [Restauration à emporter, Carburant qualité su...\n",
       "16       [Restauration sur place, Toilettes publiques, ...\n",
       "17       [Carburant qualité supérieure, GPL, Toilettes ...\n",
       "18                               [Vente de gaz domestique]\n",
       "19       [Carburant qualité supérieure, GPL, Toilettes ...\n",
       "20       [Restauration à emporter, Carburant qualité su...\n",
       "21       [Restauration à emporter, Carburant qualité su...\n",
       "22       [Station de lavage, Station de gonflage, Vente...\n",
       "23       [Location de véhicule, Automate CB, Lavage hau...\n",
       "24       [Restauration à emporter, Carburant qualité su...\n",
       "25       [Restauration à emporter, Carburant qualité su...\n",
       "26       [Carburant qualité supérieure, Boutique alimen...\n",
       "27       [Carburant qualité supérieure, Toilettes publi...\n",
       "28       [Carburant qualité supérieure, Station de lava...\n",
       "29                                           [Automate CB]\n",
       "                               ...                        \n",
       "12361    [Restauration à emporter, Carburant qualité su...\n",
       "12362    [Carburant qualité supérieure, GPL, Station de...\n",
       "12363    [Carburant qualité supérieure, GPL, Station de...\n",
       "12364    [Carburant qualité supérieure, Boutique alimen...\n",
       "12365                                                  NaN\n",
       "12366    [Carburant qualité supérieure, Toilettes publi...\n",
       "12367    [Carburant qualité supérieure, GPL, Toilettes ...\n",
       "12368    [Carburant qualité supérieure, Toilettes publi...\n",
       "12369    [Carburant qualité supérieure, GPL, Toilettes ...\n",
       "12370    [Boutique alimentaire, Vente de gaz domestique...\n",
       "12371    [Carburant qualité supérieure, GPL, Boutique a...\n",
       "12372    [Carburant qualité supérieure, GPL, Boutique a...\n",
       "12373    [Carburant qualité supérieure, Station de lava...\n",
       "12374    [Restauration à emporter, Carburant qualité su...\n",
       "12375    [Carburant qualité supérieure, Toilettes publi...\n",
       "12376    [Restauration à emporter, Carburant qualité su...\n",
       "12377    [Carburant qualité supérieure, Boutique alimen...\n",
       "12378    [Restauration à emporter, Carburant qualité su...\n",
       "12379    [Carburant qualité supérieure, Toilettes publi...\n",
       "12380    [Carburant qualité supérieure, Station de lava...\n",
       "12381               [Vente de gaz domestique, Automate CB]\n",
       "12382                                                  NaN\n",
       "12383    [Carburant qualité supérieure, Toilettes publi...\n",
       "12384    [Carburant qualité supérieure, Toilettes publi...\n",
       "12385    [Carburant qualité supérieure, Toilettes publi...\n",
       "12386    [Carburant qualité supérieure, Toilettes publi...\n",
       "12387    [Carburant qualité supérieure, Toilettes publi...\n",
       "12388    [Boutique alimentaire, Station de gonflage, Bo...\n",
       "12389    [Carburant qualité supérieure, Boutique non al...\n",
       "12390                                                  NaN\n",
       "Name: services, Length: 12391, dtype: object"
      ]
     },
     "execution_count": 151,
     "metadata": {},
     "output_type": "execute_result"
    }
   ],
   "source": [
    "dfservices.services.str.split(',').head()"
   ]
  },
  {
   "cell_type": "code",
   "execution_count": 149,
   "metadata": {},
   "outputs": [
    {
     "data": {
      "text/plain": [
       "(12391, 6)"
      ]
     },
     "execution_count": 149,
     "metadata": {},
     "output_type": "execute_result"
    }
   ],
   "source": [
    "dfservices.shape"
   ]
  },
  {
   "cell_type": "code",
   "execution_count": 152,
   "metadata": {
    "collapsed": true
   },
   "outputs": [],
   "source": [
    "from sklearn.feature_extraction.text import CountVectorizer"
   ]
  },
  {
   "cell_type": "code",
   "execution_count": 153,
   "metadata": {
    "collapsed": true
   },
   "outputs": [],
   "source": [
    "_tokenize = lambda x: x.split(',')"
   ]
  },
  {
   "cell_type": "code",
   "execution_count": 155,
   "metadata": {},
   "outputs": [],
   "source": [
    "vectorize = CountVectorizer(tokenizer=_tokenize, lowercase=False)"
   ]
  },
  {
   "cell_type": "code",
   "execution_count": 156,
   "metadata": {
    "collapsed": true
   },
   "outputs": [],
   "source": [
    "vectorize = CountVectorizer(tokenizer=lambda x: x.split(','), lowercase=False)"
   ]
  },
  {
   "cell_type": "code",
   "execution_count": 157,
   "metadata": {},
   "outputs": [
    {
     "data": {
      "text/plain": [
       "<6x6 sparse matrix of type '<class 'numpy.int64'>'\n",
       "\twith 6 stored elements in Compressed Sparse Row format>"
      ]
     },
     "execution_count": 157,
     "metadata": {},
     "output_type": "execute_result"
    }
   ],
   "source": [
    "vectorize.fit_transform(dfservices.fillna('Rien'))"
   ]
  },
  {
   "cell_type": "code",
   "execution_count": 158,
   "metadata": {},
   "outputs": [
    {
     "data": {
      "text/plain": [
       "{'code_postal': 0,\n",
       " 'id_station': 1,\n",
       " 'latitude': 2,\n",
       " 'longitude': 3,\n",
       " 'services': 4,\n",
       " 'type_station': 5}"
      ]
     },
     "execution_count": 158,
     "metadata": {},
     "output_type": "execute_result"
    }
   ],
   "source": [
    "vectorize.vocabulary_"
   ]
  },
  {
   "cell_type": "code",
   "execution_count": null,
   "metadata": {
    "collapsed": true
   },
   "outputs": [],
   "source": []
  },
  {
   "cell_type": "code",
   "execution_count": null,
   "metadata": {
    "collapsed": true
   },
   "outputs": [],
   "source": []
  },
  {
   "cell_type": "code",
   "execution_count": null,
   "metadata": {
    "collapsed": true
   },
   "outputs": [],
   "source": []
  },
  {
   "cell_type": "code",
   "execution_count": null,
   "metadata": {
    "collapsed": true
   },
   "outputs": [],
   "source": []
  },
  {
   "cell_type": "code",
   "execution_count": null,
   "metadata": {
    "collapsed": true
   },
   "outputs": [],
   "source": []
  }
 ],
 "metadata": {
  "kernelspec": {
   "display_name": "Python 3",
   "language": "python",
   "name": "python3"
  },
  "language_info": {
   "codemirror_mode": {
    "name": "ipython",
    "version": 3
   },
   "file_extension": ".py",
   "mimetype": "text/x-python",
   "name": "python",
   "nbconvert_exporter": "python",
   "pygments_lexer": "ipython3",
   "version": "3.6.1"
  }
 },
 "nbformat": 4,
 "nbformat_minor": 2
}
